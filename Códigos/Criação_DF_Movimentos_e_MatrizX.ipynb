{
  "cells": [
    {
      "cell_type": "markdown",
      "metadata": {
        "id": "p6qdz2X_2IKY"
      },
      "source": [
        "Database 1"
      ]
    },
    {
      "cell_type": "code",
      "execution_count": 1,
      "metadata": {
        "id": "ZfjpJrkoYtgF"
      },
      "outputs": [],
      "source": [
        "import pandas as pd"
      ]
    },
    {
      "cell_type": "code",
      "execution_count": 3,
      "metadata": {
        "id": "JMo-wFYF-Za8"
      },
      "outputs": [],
      "source": [
        "f1_cyl = pd.read_csv('https://github.com/ascdavia/DeepLearning_SignalProcessing-sEMG/blob/main/Database/sEMG_Basic_Hand_movements_upatras_csv_files/Database_1/female_1/f1_cyl.csv?raw=true', compression = None, header = None)\n",
        "f1_hook = pd.read_csv('https://github.com/ascdavia/DeepLearning_SignalProcessing-sEMG/blob/main/Database/sEMG_Basic_Hand_movements_upatras_csv_files/Database_1/female_1/f1_hook.csv?raw=true', compression = None, header = None)\n",
        "f1_lat = pd.read_csv('https://github.com/ascdavia/DeepLearning_SignalProcessing-sEMG/blob/main/Database/sEMG_Basic_Hand_movements_upatras_csv_files/Database_1/female_1/f1_lat.csv?raw=true', compression = None, header = None)\n",
        "f1_palm = pd.read_csv('https://github.com/ascdavia/DeepLearning_SignalProcessing-sEMG/blob/main/Database/sEMG_Basic_Hand_movements_upatras_csv_files/Database_1/female_1/f1_palm.csv?raw=true', compression = None, header = None)\n",
        "f1_spher = pd.read_csv('https://github.com/ascdavia/DeepLearning_SignalProcessing-sEMG/blob/main/Database/sEMG_Basic_Hand_movements_upatras_csv_files/Database_1/female_1/f1_spher.csv?raw=true', compression = None, header = None)\n",
        "f1_tip = pd.read_csv('https://github.com/ascdavia/DeepLearning_SignalProcessing-sEMG/blob/main/Database/sEMG_Basic_Hand_movements_upatras_csv_files/Database_1/female_1/f1_tip.csv?raw=true', compression = None, header = None)\n",
        "\n",
        "f2_cyl = pd.read_csv('https://github.com/ascdavia/DeepLearning_SignalProcessing-sEMG/blob/main/Database/sEMG_Basic_Hand_movements_upatras_csv_files/Database_1/female_2/f2_cyl.csv?raw=true', compression = None, header = None)\n",
        "f2_hook = pd.read_csv('https://github.com/ascdavia/DeepLearning_SignalProcessing-sEMG/blob/main/Database/sEMG_Basic_Hand_movements_upatras_csv_files/Database_1/female_2/f2_hook.csv?raw=true', compression = None, header = None)\n",
        "f2_lat = pd.read_csv('https://github.com/ascdavia/DeepLearning_SignalProcessing-sEMG/blob/main/Database/sEMG_Basic_Hand_movements_upatras_csv_files/Database_1/female_2/f2_lat.csv?raw=true', compression = None, header = None)\n",
        "f2_palm = pd.read_csv('https://github.com/ascdavia/DeepLearning_SignalProcessing-sEMG/blob/main/Database/sEMG_Basic_Hand_movements_upatras_csv_files/Database_1/female_2/f2_palm.csv?raw=true', compression = None, header = None)\n",
        "f2_spher = pd.read_csv('https://github.com/ascdavia/DeepLearning_SignalProcessing-sEMG/blob/main/Database/sEMG_Basic_Hand_movements_upatras_csv_files/Database_1/female_2/f2_spher.csv?raw=true', compression = None, header = None)\n",
        "f2_tip = pd.read_csv('https://github.com/ascdavia/DeepLearning_SignalProcessing-sEMG/blob/main/Database/sEMG_Basic_Hand_movements_upatras_csv_files/Database_1/female_2/f2_tip.csv?raw=true', compression = None, header = None)\n",
        "\n",
        "f3_cyl = pd.read_csv('https://github.com/ascdavia/DeepLearning_SignalProcessing-sEMG/blob/main/Database/sEMG_Basic_Hand_movements_upatras_csv_files/Database_1/female_3/f3_cyl.csv?raw=true', compression = None, header = None)\n",
        "f3_hook = pd.read_csv('https://github.com/ascdavia/DeepLearning_SignalProcessing-sEMG/blob/main/Database/sEMG_Basic_Hand_movements_upatras_csv_files/Database_1/female_3/f3_hook.csv?raw=true', compression = None, header = None)\n",
        "f3_lat = pd.read_csv('https://github.com/ascdavia/DeepLearning_SignalProcessing-sEMG/blob/main/Database/sEMG_Basic_Hand_movements_upatras_csv_files/Database_1/female_3/f3_lat.csv?raw=true', compression = None, header = None)\n",
        "f3_palm = pd.read_csv('https://github.com/ascdavia/DeepLearning_SignalProcessing-sEMG/blob/main/Database/sEMG_Basic_Hand_movements_upatras_csv_files/Database_1/female_3/f3_palm.csv?raw=true', compression = None, header = None)\n",
        "f3_spher = pd.read_csv('https://github.com/ascdavia/DeepLearning_SignalProcessing-sEMG/blob/main/Database/sEMG_Basic_Hand_movements_upatras_csv_files/Database_1/female_3/f3_spher.csv?raw=true', compression = None, header = None)\n",
        "f3_tip = pd.read_csv('https://github.com/ascdavia/DeepLearning_SignalProcessing-sEMG/blob/main/Database/sEMG_Basic_Hand_movements_upatras_csv_files/Database_1/female_3/f3_tip.csv?raw=true', compression = None, header = None)\n",
        "\n",
        "m1_cyl = pd.read_csv('https://github.com/ascdavia/DeepLearning_SignalProcessing-sEMG/blob/main/Database/sEMG_Basic_Hand_movements_upatras_csv_files/Database_1/male_1/m1_cyl.csv?raw=true', compression = None, header = None)\n",
        "m1_hook = pd.read_csv('https://github.com/ascdavia/DeepLearning_SignalProcessing-sEMG/blob/main/Database/sEMG_Basic_Hand_movements_upatras_csv_files/Database_1/male_1/m1_hook.csv?raw=true', compression = None, header = None)\n",
        "m1_lat = pd.read_csv('https://github.com/ascdavia/DeepLearning_SignalProcessing-sEMG/blob/main/Database/sEMG_Basic_Hand_movements_upatras_csv_files/Database_1/male_1/m1_lat.csv?raw=true', compression = None, header = None)\n",
        "m1_palm = pd.read_csv('https://github.com/ascdavia/DeepLearning_SignalProcessing-sEMG/blob/main/Database/sEMG_Basic_Hand_movements_upatras_csv_files/Database_1/male_1/m1_palm.csv?raw=true', compression = None, header = None)\n",
        "m1_spher = pd.read_csv('https://github.com/ascdavia/DeepLearning_SignalProcessing-sEMG/blob/main/Database/sEMG_Basic_Hand_movements_upatras_csv_files/Database_1/male_1/m1_spher.csv?raw=true', compression = None, header = None)\n",
        "m1_tip = pd.read_csv('https://github.com/ascdavia/DeepLearning_SignalProcessing-sEMG/blob/main/Database/sEMG_Basic_Hand_movements_upatras_csv_files/Database_1/male_1/m1_tip.csv?raw=true', compression = None, header = None)\n",
        "\n",
        "m2_cyl = pd.read_csv('https://github.com/ascdavia/DeepLearning_SignalProcessing-sEMG/blob/main/Database/sEMG_Basic_Hand_movements_upatras_csv_files/Database_1/male_2/m2_cyl.csv?raw=true', compression = None, header = None)\n",
        "m2_hook = pd.read_csv('https://github.com/ascdavia/DeepLearning_SignalProcessing-sEMG/blob/main/Database/sEMG_Basic_Hand_movements_upatras_csv_files/Database_1/male_2/m2_hook.csv?raw=true', compression = None, header = None)\n",
        "m2_lat = pd.read_csv('https://github.com/ascdavia/DeepLearning_SignalProcessing-sEMG/blob/main/Database/sEMG_Basic_Hand_movements_upatras_csv_files/Database_1/male_2/m2_lat.csv?raw=true', compression = None, header = None)\n",
        "m2_palm = pd.read_csv('https://github.com/ascdavia/DeepLearning_SignalProcessing-sEMG/blob/main/Database/sEMG_Basic_Hand_movements_upatras_csv_files/Database_1/male_2/m2_palm.csv?raw=true', compression = None, header = None)\n",
        "m2_spher = pd.read_csv('https://github.com/ascdavia/DeepLearning_SignalProcessing-sEMG/blob/main/Database/sEMG_Basic_Hand_movements_upatras_csv_files/Database_1/male_2/m2_spher.csv?raw=true', compression = None, header = None)\n",
        "m2_tip = pd.read_csv('https://github.com/ascdavia/DeepLearning_SignalProcessing-sEMG/blob/main/Database/sEMG_Basic_Hand_movements_upatras_csv_files/Database_1/male_2/m2_tip.csv?raw=true', compression = None, header = None)"
      ]
    },
    {
      "cell_type": "code",
      "execution_count": null,
      "metadata": {
        "id": "wvssGh-rtaKa"
      },
      "outputs": [],
      "source": [
        "cyl = pd.concat([f1_cyl,f2_cyl,f3_cyl,m1_cyl,m2_cyl], ignore_index=True)\n",
        "hook = pd.concat([f1_hook,f2_hook,f3_hook,m1_hook,m2_hook], ignore_index=True)\n",
        "lat = pd.concat([f1_lat,f2_lat,f3_lat,m1_lat,m2_lat], ignore_index=True)\n",
        "palm = pd.concat([f1_palm,f2_palm,f3_palm,m1_palm,m2_palm], ignore_index=True)\n",
        "spher = pd.concat([f1_spher,f2_spher,f3_spher,m1_spher,m2_spher], ignore_index=True) \n",
        "tip = pd.concat([f1_tip,f2_tip,f3_tip,m1_tip,m2_tip], ignore_index=True)"
      ]
    },
    {
      "cell_type": "code",
      "execution_count": null,
      "metadata": {
        "id": "DRSWZ638xRaQ"
      },
      "outputs": [],
      "source": [
        "x = pd.concat([cyl,hook,lat,palm,spher,tip], ignore_index=True)"
      ]
    },
    {
      "cell_type": "code",
      "execution_count": null,
      "metadata": {
        "id": "W7biyCgjPX5s"
      },
      "outputs": [],
      "source": [
        "x.to_csv('df1_mov_all.csv') "
      ]
    },
    {
      "cell_type": "code",
      "execution_count": null,
      "metadata": {
        "id": "sWZgAXRchrWQ"
      },
      "outputs": [],
      "source": [
        "cyl.to_csv('df1_mov_cyl.csv')\n",
        "hook.to_csv('df1_mov_hook.csv')\n",
        "lat.to_csv('df1_mov_lat.csv')\n",
        "palm.to_csv('df1_mov_palm.csv')\n",
        "spher.to_csv('df1_mov_spher.csv')\n",
        "tip.to_csv('df1_mov_tip.csv')"
      ]
    }
  ],
  "metadata": {
    "colab": {
      "collapsed_sections": [],
      "name": "Criação_DF_Movimentos_e_MatrizX.ipynb",
      "provenance": []
    },
    "kernelspec": {
      "display_name": "Python 3.9.12 ('base')",
      "language": "python",
      "name": "python3"
    },
    "language_info": {
      "codemirror_mode": {
        "name": "ipython",
        "version": 3
      },
      "file_extension": ".py",
      "mimetype": "text/x-python",
      "name": "python",
      "nbconvert_exporter": "python",
      "pygments_lexer": "ipython3",
      "version": "3.9.12"
    },
    "vscode": {
      "interpreter": {
        "hash": "ae09e38b7be13451081df76a1082a7f862624aba3df73c80e907e9dbeaea6faa"
      }
    }
  },
  "nbformat": 4,
  "nbformat_minor": 0
}
